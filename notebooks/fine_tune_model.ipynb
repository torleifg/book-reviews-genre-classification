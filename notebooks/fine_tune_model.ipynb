{
 "cells": [
  {
   "cell_type": "code",
   "execution_count": null,
   "id": "b1a8213fca437183",
   "metadata": {},
   "outputs": [],
   "source": [
    "import evaluate\n",
    "import numpy as np\n",
    "from datasets import load_from_disk\n",
    "from transformers import (AutoTokenizer, TrainingArguments, EvalPrediction, AutoModelForSequenceClassification)\n",
    "\n",
    "import focal_loss as fl"
   ]
  },
  {
   "cell_type": "code",
   "execution_count": null,
   "id": "6449378a5beb304e",
   "metadata": {},
   "outputs": [],
   "source": [
    "transformer_model = 'distilbert/distilbert-base-multilingual-cased'\n",
    "# transformer_model = 'NbAiLab/nb-bert-base'\n",
    "# transformer_model = 'NbAiLab/nb-bert-large'\n",
    "\n",
    "dataset_name = 'reviews-with-genre'\n",
    "model_name = 'reviews-with-genre'"
   ]
  },
  {
   "cell_type": "code",
   "execution_count": null,
   "id": "151ac64367775b67",
   "metadata": {},
   "outputs": [],
   "source": [
    "dataset = load_from_disk(f'../datasets/{dataset_name}')['train']\n",
    "dataset.cleanup_cache_files()"
   ]
  },
  {
   "cell_type": "code",
   "execution_count": null,
   "id": "1de21bfbd35c041c",
   "metadata": {},
   "outputs": [],
   "source": [
    "tokenizer = AutoTokenizer.from_pretrained(transformer_model)"
   ]
  },
  {
   "cell_type": "code",
   "execution_count": null,
   "id": "bd2e35b09180f800",
   "metadata": {},
   "outputs": [],
   "source": [
    "all_labels = set()\n",
    "for row_labels in dataset['labels']:\n",
    "    all_labels.update(row_labels)\n",
    "\n",
    "id2label = {idx: label for idx, label in enumerate(all_labels)}\n",
    "label2id = {label: idx for idx, label in enumerate(all_labels)}"
   ]
  },
  {
   "cell_type": "code",
   "execution_count": null,
   "id": "4ad971bb6be83759",
   "metadata": {},
   "outputs": [],
   "source": [
    "def preprocess(examples):\n",
    "    labels = [0.0] * len(id2label)\n",
    "    for k, l in id2label.items():\n",
    "        if l in examples['labels']:\n",
    "            labels[k] = 1.0\n",
    "        else:\n",
    "            labels[k] = 0.0\n",
    "\n",
    "    result = tokenizer(examples['text'], padding='max_length', max_length=128, truncation=True)\n",
    "    result['labels'] = labels\n",
    "\n",
    "    return result"
   ]
  },
  {
   "cell_type": "code",
   "execution_count": null,
   "id": "4069a999cb55c40c",
   "metadata": {},
   "outputs": [],
   "source": [
    "tokenized_dataset = dataset.map(preprocess, remove_columns=dataset.column_names).train_test_split(\n",
    "    test_size=0.2,\n",
    "    seed=42)"
   ]
  },
  {
   "cell_type": "code",
   "execution_count": null,
   "id": "883eacdb1cbaead9",
   "metadata": {},
   "outputs": [],
   "source": [
    "example = tokenized_dataset['train'][0]\n",
    "example.keys()"
   ]
  },
  {
   "cell_type": "code",
   "execution_count": null,
   "id": "ada695644643e82b",
   "metadata": {},
   "outputs": [],
   "source": [
    "tokenizer.decode(example['input_ids'])"
   ]
  },
  {
   "cell_type": "code",
   "execution_count": null,
   "id": "2b94e19f00bb5b08",
   "metadata": {},
   "outputs": [],
   "source": [
    "example['labels']"
   ]
  },
  {
   "cell_type": "code",
   "execution_count": null,
   "id": "f2e6c5d7e6e12af7",
   "metadata": {},
   "outputs": [],
   "source": [
    "[id2label[idx] for idx, label in enumerate(example['labels']) if label == 1.0]"
   ]
  },
  {
   "cell_type": "code",
   "execution_count": null,
   "id": "5461dbc97f9fb4c5",
   "metadata": {},
   "outputs": [],
   "source": [
    "model = AutoModelForSequenceClassification.from_pretrained(transformer_model,\n",
    "                                                           problem_type='multi_label_classification',\n",
    "                                                           num_labels=len(all_labels),\n",
    "                                                           id2label=id2label,\n",
    "                                                           label2id=label2id)\n",
    "\n",
    "train_args = TrainingArguments(\n",
    "    f'../models/{model_name}',\n",
    "    auto_find_batch_size=True,\n",
    "    eval_strategy='epoch',\n",
    "    save_strategy='epoch',\n",
    "    learning_rate=2e-5,\n",
    "    num_train_epochs=1,\n",
    "    weight_decay=0.01,\n",
    "    warmup_ratio=0.1\n",
    ")"
   ]
  },
  {
   "cell_type": "code",
   "execution_count": null,
   "id": "46bb5c354c853a48",
   "metadata": {},
   "outputs": [],
   "source": [
    "metric = evaluate.load('f1')"
   ]
  },
  {
   "cell_type": "code",
   "execution_count": null,
   "id": "5a7290242cd0f2ee",
   "metadata": {},
   "outputs": [],
   "source": [
    "def compute_metrics(p: EvalPrediction):\n",
    "    predictions = np.array([np.where(pred > 0, 1, 0) for pred in p.predictions]).flatten()\n",
    "    references = np.array(p.label_ids, dtype=int).flatten()\n",
    "\n",
    "    micro = metric.compute(predictions=predictions, references=references, average=\"micro\")['f1']\n",
    "    macro = metric.compute(predictions=predictions, references=references, average=\"macro\")['f1']\n",
    "    weighted = metric.compute(predictions=predictions, references=references, average=\"weighted\")['f1']\n",
    "\n",
    "    result = {\n",
    "        'f1 micro': micro,\n",
    "        'f1 macro': macro,\n",
    "        'f1 weighted': weighted\n",
    "    }\n",
    "\n",
    "    return result"
   ]
  },
  {
   "cell_type": "code",
   "execution_count": null,
   "id": "14af84e5e64d39d1",
   "metadata": {},
   "outputs": [],
   "source": [
    "trainer = fl.FocalLossTrainer(\n",
    "    model=model,\n",
    "    args=train_args,\n",
    "    train_dataset=tokenized_dataset['train'],\n",
    "    eval_dataset=tokenized_dataset['test'],\n",
    "    tokenizer=tokenizer,\n",
    "    compute_metrics=compute_metrics\n",
    ")"
   ]
  },
  {
   "cell_type": "code",
   "execution_count": null,
   "id": "83a089456f66e115",
   "metadata": {},
   "outputs": [],
   "source": [
    "trainer.train()"
   ]
  },
  {
   "cell_type": "code",
   "execution_count": null,
   "id": "d902525e8a854e4d",
   "metadata": {},
   "outputs": [],
   "source": []
  }
 ],
 "metadata": {
  "kernelspec": {
   "display_name": "Python 3 (ipykernel)",
   "language": "python",
   "name": "python3"
  },
  "language_info": {
   "codemirror_mode": {
    "name": "ipython",
    "version": 3
   },
   "file_extension": ".py",
   "mimetype": "text/x-python",
   "name": "python",
   "nbconvert_exporter": "python",
   "pygments_lexer": "ipython3",
   "version": "3.12.7"
  }
 },
 "nbformat": 4,
 "nbformat_minor": 5
}

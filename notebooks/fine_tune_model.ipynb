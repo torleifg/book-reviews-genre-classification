{
 "cells": [
  {
   "metadata": {},
   "cell_type": "code",
   "source": [
    "import evaluate\n",
    "import numpy as np\n",
    "from datasets import load_from_disk\n",
    "from transformers import (AutoTokenizer, TrainingArguments, Trainer,\n",
    "                          EvalPrediction, AutoModelForSequenceClassification)"
   ],
   "id": "b1a8213fca437183",
   "outputs": [],
   "execution_count": null
  },
  {
   "metadata": {},
   "cell_type": "code",
   "source": "name = 'reviews-with-genre'",
   "id": "6449378a5beb304e",
   "outputs": [],
   "execution_count": null
  },
  {
   "metadata": {},
   "cell_type": "code",
   "source": [
    "dataset = load_from_disk(f'../datasets/{name}')['train']\n",
    "dataset.cleanup_cache_files()"
   ],
   "id": "151ac64367775b67",
   "outputs": [],
   "execution_count": null
  },
  {
   "metadata": {},
   "cell_type": "code",
   "source": [
    "model = 'NbAiLab/nb-bert-large'\n",
    "tokenizer = AutoTokenizer.from_pretrained(model)"
   ],
   "id": "1de21bfbd35c041c",
   "outputs": [],
   "execution_count": null
  },
  {
   "metadata": {},
   "cell_type": "code",
   "source": [
    "all_labels = set()\n",
    "for row_labels in dataset['labels']:\n",
    "    all_labels.update(row_labels)\n",
    "\n",
    "id2label = {idx: label for idx, label in enumerate(all_labels)}\n",
    "label2id = {label: idx for idx, label in enumerate(all_labels)}"
   ],
   "id": "bd2e35b09180f800",
   "outputs": [],
   "execution_count": null
  },
  {
   "metadata": {},
   "cell_type": "code",
   "source": [
    "def preprocess(examples):\n",
    "    labels = [0.0] * len(id2label)\n",
    "    for k, l in id2label.items():\n",
    "        if l in examples['labels']:\n",
    "            labels[k] = 1.0\n",
    "        else:\n",
    "            labels[k] = 0.0\n",
    "\n",
    "    result = tokenizer(examples['text'], padding='max_length', max_length=128, truncation=True)\n",
    "    result['labels'] = labels\n",
    "\n",
    "    return result"
   ],
   "id": "4ad971bb6be83759",
   "outputs": [],
   "execution_count": null
  },
  {
   "metadata": {},
   "cell_type": "code",
   "source": [
    "tokenized_dataset = dataset.map(preprocess, remove_columns=dataset.column_names).train_test_split(\n",
    "    test_size=0.2,\n",
    "    seed=42)"
   ],
   "id": "4069a999cb55c40c",
   "outputs": [],
   "execution_count": null
  },
  {
   "metadata": {},
   "cell_type": "code",
   "source": [
    "example = tokenized_dataset['train'][0]\n",
    "example.keys()"
   ],
   "id": "883eacdb1cbaead9",
   "outputs": [],
   "execution_count": null
  },
  {
   "metadata": {},
   "cell_type": "code",
   "source": "tokenizer.decode(example['input_ids'])",
   "id": "ada695644643e82b",
   "outputs": [],
   "execution_count": null
  },
  {
   "metadata": {},
   "cell_type": "code",
   "source": "example['labels']",
   "id": "2b94e19f00bb5b08",
   "outputs": [],
   "execution_count": null
  },
  {
   "metadata": {},
   "cell_type": "code",
   "source": "[id2label[idx] for idx, label in enumerate(example['labels']) if label == 1.0]",
   "id": "f2e6c5d7e6e12af7",
   "outputs": [],
   "execution_count": null
  },
  {
   "metadata": {},
   "cell_type": "code",
   "source": [
    "model = AutoModelForSequenceClassification.from_pretrained(model,\n",
    "                                                           problem_type='multi_label_classification',\n",
    "                                                           num_labels=len(all_labels),\n",
    "                                                           id2label=id2label,\n",
    "                                                           label2id=label2id)\n",
    "\n",
    "train_args = TrainingArguments(\n",
    "    f'../models/{name}',\n",
    "    auto_find_batch_size=True,\n",
    "    eval_strategy='epoch',\n",
    "    save_strategy='epoch',\n",
    "    learning_rate=2e-5,\n",
    "    num_train_epochs=1,\n",
    "    weight_decay=0.01,\n",
    "    warmup_ratio=0.1\n",
    ")"
   ],
   "id": "5461dbc97f9fb4c5",
   "outputs": [],
   "execution_count": null
  },
  {
   "metadata": {},
   "cell_type": "code",
   "source": "metric = evaluate.load('f1')",
   "id": "46bb5c354c853a48",
   "outputs": [],
   "execution_count": null
  },
  {
   "metadata": {},
   "cell_type": "code",
   "source": [
    "def compute_metrics(p: EvalPrediction):\n",
    "    # Convert logits to multi-hot encoding\n",
    "    predictions = np.array([np.where(pred > 0, 1, 0) for pred in p.predictions]).flatten()\n",
    "\n",
    "    # Convert references to integers\n",
    "    references = np.array(p.label_ids, dtype=int).flatten()\n",
    "\n",
    "    micro = metric.compute(predictions=predictions, references=references, average=\"micro\")['f1']\n",
    "    macro = metric.compute(predictions=predictions, references=references, average=\"macro\")['f1']\n",
    "    weighted = metric.compute(predictions=predictions, references=references, average=\"weighted\")['f1']\n",
    "\n",
    "    result = {\n",
    "        'f1 micro': micro,\n",
    "        'f1 macro': macro,\n",
    "        'f1 weighted': weighted\n",
    "    }\n",
    "\n",
    "    return result"
   ],
   "id": "5a7290242cd0f2ee",
   "outputs": [],
   "execution_count": null
  },
  {
   "metadata": {},
   "cell_type": "code",
   "source": [
    "trainer = Trainer(\n",
    "    model=model,\n",
    "    args=train_args,\n",
    "    train_dataset=tokenized_dataset['train'],\n",
    "    eval_dataset=tokenized_dataset['test'],\n",
    "    tokenizer=tokenizer,\n",
    "    compute_metrics=compute_metrics\n",
    ")"
   ],
   "id": "14af84e5e64d39d1",
   "outputs": [],
   "execution_count": null
  },
  {
   "metadata": {},
   "cell_type": "code",
   "source": "trainer.train()",
   "id": "83a089456f66e115",
   "outputs": [],
   "execution_count": null
  },
  {
   "metadata": {},
   "cell_type": "code",
   "source": "",
   "id": "d902525e8a854e4d",
   "outputs": [],
   "execution_count": null
  }
 ],
 "metadata": {
  "kernelspec": {
   "display_name": "Python 3",
   "language": "python",
   "name": "python3"
  },
  "language_info": {
   "codemirror_mode": {
    "name": "ipython",
    "version": 2
   },
   "file_extension": ".py",
   "mimetype": "text/x-python",
   "name": "python",
   "nbconvert_exporter": "python",
   "pygments_lexer": "ipython2",
   "version": "2.7.6"
  }
 },
 "nbformat": 4,
 "nbformat_minor": 5
}

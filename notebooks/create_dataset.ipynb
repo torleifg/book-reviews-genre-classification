{
 "cells": [
  {
   "cell_type": "code",
   "execution_count": null,
   "id": "initial_id",
   "metadata": {},
   "outputs": [],
   "source": [
    "import ast\n",
    "import os\n",
    "import shutil\n",
    "\n",
    "import pandas as pd\n",
    "from datasets import Dataset"
   ]
  },
  {
   "cell_type": "code",
   "execution_count": null,
   "id": "f6b8eba83837c4a",
   "metadata": {},
   "outputs": [],
   "source": [
    "dataset_name = 'reviews-with-genre'"
   ]
  },
  {
   "cell_type": "code",
   "execution_count": null,
   "id": "a06864ffceef191e",
   "metadata": {},
   "outputs": [],
   "source": [
    "df = pd.read_csv(f'../csv/{dataset_name}.csv', delimiter=';')"
   ]
  },
  {
   "cell_type": "code",
   "execution_count": null,
   "id": "1510b05bc341cc7c",
   "metadata": {},
   "outputs": [],
   "source": [
    "df_distribution = df['labels'].value_counts()\n",
    "df_distribution.describe()"
   ]
  },
  {
   "cell_type": "code",
   "execution_count": null,
   "id": "dd68c8e048988032",
   "metadata": {},
   "outputs": [],
   "source": [
    "df_distribution.head(10)"
   ]
  },
  {
   "cell_type": "code",
   "execution_count": null,
   "id": "c8580a7b6397f205",
   "metadata": {},
   "outputs": [],
   "source": [
    "df['text'] = df['text'].astype(str)\n",
    "df['labels'] = df['labels'].apply(ast.literal_eval)"
   ]
  },
  {
   "cell_type": "code",
   "execution_count": null,
   "id": "221fe35f1825728a",
   "metadata": {},
   "outputs": [],
   "source": [
    "df = df[~((df['labels'].apply(len) == 1) & (df['labels'].apply(lambda x: x[0] == 'Romaner')))]\n",
    "df.shape"
   ]
  },
  {
   "cell_type": "code",
   "execution_count": null,
   "id": "263650cc141e9f9b",
   "metadata": {},
   "outputs": [],
   "source": [
    "def first_10_words(text):\n",
    "    words = text.split()\n",
    "    return ' '.join(words[:10])\n",
    "\n",
    "\n",
    "df['first_10_words'] = df['text'].apply(first_10_words)\n",
    "\n",
    "df.drop_duplicates(subset=['first_10_words'], keep='first', inplace=True)\n",
    "df.drop(columns=['first_10_words'])\n",
    "\n",
    "df.shape"
   ]
  },
  {
   "cell_type": "code",
   "execution_count": null,
   "id": "1a6b3695630bf24d",
   "metadata": {},
   "outputs": [],
   "source": [
    "labels_distribution = df['labels'].explode().value_counts()\n",
    "labels_distribution.describe()"
   ]
  },
  {
   "cell_type": "code",
   "execution_count": null,
   "id": "bf0a9ec0ce553376",
   "metadata": {},
   "outputs": [],
   "source": [
    "labels_distribution.head(10)"
   ]
  },
  {
   "cell_type": "code",
   "execution_count": null,
   "id": "8aa6a156c215f8e0",
   "metadata": {},
   "outputs": [],
   "source": [
    "dataset = Dataset.from_dict({'text': df['text'], 'labels': df['labels']})\n",
    "\n",
    "train_test_split = dataset.train_test_split(test_size=0.1, shuffle=True, seed=42)\n",
    "\n",
    "if os.path.isdir(f'../datasets/{dataset_name}'):\n",
    "    shutil.rmtree(f'../datasets/{dataset_name}')\n",
    "\n",
    "train_test_split.save_to_disk(f'../datasets/{dataset_name}')"
   ]
  },
  {
   "cell_type": "code",
   "execution_count": null,
   "id": "17889dc794f1e1ef",
   "metadata": {},
   "outputs": [],
   "source": []
  }
 ],
 "metadata": {
  "kernelspec": {
   "display_name": "Python 3 (ipykernel)",
   "language": "python",
   "name": "python3"
  },
  "language_info": {
   "codemirror_mode": {
    "name": "ipython",
    "version": 3
   },
   "file_extension": ".py",
   "mimetype": "text/x-python",
   "name": "python",
   "nbconvert_exporter": "python",
   "pygments_lexer": "ipython3",
   "version": "3.12.7"
  }
 },
 "nbformat": 4,
 "nbformat_minor": 5
}

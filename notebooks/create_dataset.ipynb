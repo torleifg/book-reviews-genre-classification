{
 "cells": [
  {
   "cell_type": "code",
   "id": "initial_id",
   "metadata": {
    "collapsed": true
   },
   "source": [
    "import ast\n",
    "import os\n",
    "import shutil\n",
    "\n",
    "import pandas as pd\n",
    "from datasets import Dataset"
   ],
   "outputs": [],
   "execution_count": null
  },
  {
   "metadata": {},
   "cell_type": "code",
   "source": "name = 'reviews-with-genre'",
   "id": "f6b8eba83837c4a",
   "outputs": [],
   "execution_count": null
  },
  {
   "metadata": {},
   "cell_type": "code",
   "source": "df = pd.read_csv(f'../csv/{name}.csv', delimiter=';')",
   "id": "a06864ffceef191e",
   "outputs": [],
   "execution_count": null
  },
  {
   "metadata": {},
   "cell_type": "code",
   "source": [
    "df_distribution = df['labels'].value_counts()\n",
    "df_distribution.describe()"
   ],
   "id": "1510b05bc341cc7c",
   "outputs": [],
   "execution_count": null
  },
  {
   "metadata": {},
   "cell_type": "code",
   "source": "df_distribution.head(10)",
   "id": "dd68c8e048988032",
   "outputs": [],
   "execution_count": null
  },
  {
   "metadata": {},
   "cell_type": "code",
   "source": [
    "df['text'] = df['text'].astype(str)\n",
    "df['text'] = df['text'].str.lower()\n",
    "\n",
    "df['labels'] = df['labels'].apply(ast.literal_eval)"
   ],
   "id": "c8580a7b6397f205",
   "outputs": [],
   "execution_count": null
  },
  {
   "metadata": {},
   "cell_type": "code",
   "source": "df.drop_duplicates('text', keep='first', inplace=True)",
   "id": "ef2db0407dcdec48",
   "outputs": [],
   "execution_count": null
  },
  {
   "metadata": {},
   "cell_type": "code",
   "source": "df = df[~((df['labels'].apply(len) == 1) & (df['labels'].apply(lambda x: x[0] == 'Romaner')))]",
   "id": "221fe35f1825728a",
   "outputs": [],
   "execution_count": null
  },
  {
   "metadata": {},
   "cell_type": "code",
   "source": [
    "labels_distribution = df['labels'].explode().value_counts()\n",
    "labels_distribution.describe()"
   ],
   "id": "1a6b3695630bf24d",
   "outputs": [],
   "execution_count": null
  },
  {
   "metadata": {},
   "cell_type": "code",
   "source": "labels_distribution.head(10)",
   "id": "bf0a9ec0ce553376",
   "outputs": [],
   "execution_count": null
  },
  {
   "metadata": {},
   "cell_type": "code",
   "source": [
    "dataset = Dataset.from_dict({'text': df['text'], 'labels': df['labels']})\n",
    "\n",
    "train_test_split = dataset.train_test_split(test_size=0.1, shuffle=True, seed=42)\n",
    "\n",
    "if os.path.isdir(f'../datasets/{name}'):\n",
    "    shutil.rmtree(f'../datasets/{name}')\n",
    "\n",
    "train_test_split.save_to_disk(f'../datasets/{name}')"
   ],
   "id": "8aa6a156c215f8e0",
   "outputs": [],
   "execution_count": null
  }
 ],
 "metadata": {
  "kernelspec": {
   "display_name": "Python 3",
   "language": "python",
   "name": "python3"
  },
  "language_info": {
   "codemirror_mode": {
    "name": "ipython",
    "version": 2
   },
   "file_extension": ".py",
   "mimetype": "text/x-python",
   "name": "python",
   "nbconvert_exporter": "python",
   "pygments_lexer": "ipython2",
   "version": "2.7.6"
  }
 },
 "nbformat": 4,
 "nbformat_minor": 5
}

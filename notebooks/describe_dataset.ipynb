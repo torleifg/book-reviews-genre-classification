{
 "cells": [
  {
   "cell_type": "code",
   "execution_count": null,
   "id": "initial_id",
   "metadata": {
    "collapsed": true,
    "jupyter": {
     "outputs_hidden": true
    }
   },
   "outputs": [],
   "source": [
    "import matplotlib.pyplot as plt\n",
    "from datasets import load_from_disk"
   ]
  },
  {
   "cell_type": "code",
   "execution_count": null,
   "id": "daeeea94e7d0b743",
   "metadata": {},
   "outputs": [],
   "source": [
    "dataset_name = 'reviews-with-genre'"
   ]
  },
  {
   "cell_type": "code",
   "execution_count": null,
   "id": "21231dc0ddddd781",
   "metadata": {},
   "outputs": [],
   "source": [
    "dataset = load_from_disk(f'../datasets/{dataset_name}')['train']\n",
    "dataset.cleanup_cache_files()"
   ]
  },
  {
   "cell_type": "code",
   "execution_count": null,
   "id": "5bd91b35db12d443",
   "metadata": {},
   "outputs": [],
   "source": [
    "df = dataset.to_pandas()"
   ]
  },
  {
   "cell_type": "code",
   "execution_count": null,
   "id": "9910445463258bb4",
   "metadata": {},
   "outputs": [],
   "source": [
    "label_counts = df['labels'].explode().value_counts().sort_values(ascending=False)\n",
    "\n",
    "plt.figure(figsize=(24, 12))\n",
    "plt.plot(label_counts.index, label_counts.values, marker='o', linestyle='-', color='b')\n",
    "\n",
    "plt.title('Distribution of Labels')\n",
    "plt.xlabel('Labels')\n",
    "plt.ylabel('Count')\n",
    "\n",
    "plt.xticks(ticks=label_counts.index, labels=label_counts.index, rotation=90, fontsize=10)\n",
    "\n",
    "plt.show()"
   ]
  }
 ],
 "metadata": {
  "kernelspec": {
   "display_name": "Python 3 (ipykernel)",
   "language": "python",
   "name": "python3"
  },
  "language_info": {
   "codemirror_mode": {
    "name": "ipython",
    "version": 3
   },
   "file_extension": ".py",
   "mimetype": "text/x-python",
   "name": "python",
   "nbconvert_exporter": "python",
   "pygments_lexer": "ipython3",
   "version": "3.12.7"
  }
 },
 "nbformat": 4,
 "nbformat_minor": 5
}

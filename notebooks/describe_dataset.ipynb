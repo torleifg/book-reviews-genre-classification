{
 "cells": [
  {
   "cell_type": "code",
   "id": "initial_id",
   "metadata": {
    "collapsed": true
   },
   "source": [
    "import matplotlib.pyplot as plt\n",
    "from datasets import load_from_disk"
   ],
   "outputs": [],
   "execution_count": null
  },
  {
   "metadata": {},
   "cell_type": "code",
   "source": "name = 'reviews-with-genre'",
   "id": "daeeea94e7d0b743",
   "outputs": [],
   "execution_count": null
  },
  {
   "metadata": {},
   "cell_type": "code",
   "source": [
    "dataset = load_from_disk(f'../datasets/{name}')['train']\n",
    "dataset.cleanup_cache_files()"
   ],
   "id": "21231dc0ddddd781",
   "outputs": [],
   "execution_count": null
  },
  {
   "metadata": {},
   "cell_type": "code",
   "source": "df = dataset.to_pandas()",
   "id": "5bd91b35db12d443",
   "outputs": [],
   "execution_count": null
  },
  {
   "metadata": {},
   "cell_type": "code",
   "source": [
    "label_counts = df['labels'].explode().value_counts().sort_values(ascending=False)\n",
    "\n",
    "plt.figure(figsize=(24, 12))\n",
    "plt.plot(label_counts.index, label_counts.values, marker='o', linestyle='-', color='b')\n",
    "\n",
    "plt.title('Distribution of Labels')\n",
    "plt.xlabel('Labels')\n",
    "plt.ylabel('Count')\n",
    "\n",
    "plt.xticks(ticks=label_counts.index, labels=label_counts.index, rotation=90, fontsize=10)\n",
    "\n",
    "plt.show()"
   ],
   "id": "9910445463258bb4",
   "outputs": [],
   "execution_count": null
  }
 ],
 "metadata": {
  "kernelspec": {
   "display_name": "Python 3",
   "language": "python",
   "name": "python3"
  },
  "language_info": {
   "codemirror_mode": {
    "name": "ipython",
    "version": 2
   },
   "file_extension": ".py",
   "mimetype": "text/x-python",
   "name": "python",
   "nbconvert_exporter": "python",
   "pygments_lexer": "ipython2",
   "version": "2.7.6"
  }
 },
 "nbformat": 4,
 "nbformat_minor": 5
}

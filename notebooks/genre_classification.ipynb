{
 "cells": [
  {
   "cell_type": "code",
   "id": "initial_id",
   "metadata": {
    "collapsed": true
   },
   "source": [
    "import random\n",
    "\n",
    "from datasets import load_from_disk\n",
    "from transformers import pipeline"
   ],
   "outputs": [],
   "execution_count": null
  },
  {
   "metadata": {},
   "cell_type": "code",
   "source": "name = 'reviews-with-genre'",
   "id": "c94453bc1306a0be",
   "outputs": [],
   "execution_count": null
  },
  {
   "cell_type": "code",
   "source": [
    "classifier = pipeline('text-classification', model=f'../models/{name}/checkpoint-5067', device='mps',\n",
    "                      top_k=10)"
   ],
   "metadata": {
    "collapsed": false
   },
   "id": "415c6d43378eca26",
   "outputs": [],
   "execution_count": null
  },
  {
   "cell_type": "code",
   "source": "dataset = load_from_disk(f'../datasets/{name}')['test']",
   "metadata": {
    "collapsed": false
   },
   "id": "d9b4442c33d7f7a7",
   "outputs": [],
   "execution_count": null
  },
  {
   "cell_type": "code",
   "source": [
    "random_number = random.randint(0, (dataset.num_rows - 1))\n",
    "random_row = dataset[random_number]\n",
    "\n",
    "print(random_row)\n",
    "\n",
    "classifier(random_row['text'])"
   ],
   "metadata": {
    "collapsed": false
   },
   "id": "5db0841cab38caa6",
   "outputs": [],
   "execution_count": null
  },
  {
   "metadata": {},
   "cell_type": "code",
   "source": "",
   "id": "8995fa2d663f1fad",
   "outputs": [],
   "execution_count": null
  }
 ],
 "metadata": {
  "kernelspec": {
   "display_name": "Python 3",
   "language": "python",
   "name": "python3"
  },
  "language_info": {
   "codemirror_mode": {
    "name": "ipython",
    "version": 2
   },
   "file_extension": ".py",
   "mimetype": "text/x-python",
   "name": "python",
   "nbconvert_exporter": "python",
   "pygments_lexer": "ipython2",
   "version": "2.7.6"
  }
 },
 "nbformat": 4,
 "nbformat_minor": 5
}
